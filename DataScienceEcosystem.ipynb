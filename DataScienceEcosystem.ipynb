{
 "cells": [
  {
   "cell_type": "markdown",
   "id": "4364d3b0-0ce5-420d-bd32-0d3c0e760348",
   "metadata": {},
   "source": [
    "# Data Science Ecosystem"
   ]
  },
  {
   "cell_type": "markdown",
   "id": "c3e009c8-8b8e-4e54-8d54-ba3f5a4443ca",
   "metadata": {},
   "source": [
    "In this notebook, Data Science Tools and Ecosystem are summarized."
   ]
  },
  {
   "cell_type": "markdown",
   "id": "31227787-e22a-4272-8b95-6302c002ac82",
   "metadata": {},
   "source": [
    "**Objectives:**\n",
    "\n",
    "List popular languages for Data Science\n",
    "\n",
    "* Python \n",
    "* Julia \n",
    "* R studio\n",
    "* SQL\n"
   ]
  },
  {
   "cell_type": "markdown",
   "id": "9bb40343-6478-496b-b9d6-dfb7d3a1d856",
   "metadata": {},
   "source": [
    "Some of the popular languages that Data Scientists use are:\n",
    "\n",
    "    1. Python\n",
    "    2. R studio\n",
    "    3. java \n",
    "    4. SQL\n",
    "    5. Scala"
   ]
  },
  {
   "cell_type": "markdown",
   "id": "b826a888-ed43-43df-aad2-3ebaa065ed7c",
   "metadata": {},
   "source": [
    "Some of the commonly used libraries used by Data Scientists include:\n",
    "    \n",
    "    1. Pandas \n",
    "    2. Numpy\n",
    "    3. Matplotlib\n",
    "    4. Sklearn\n",
    "    5. Tensorflow"
   ]
  },
  {
   "cell_type": "markdown",
   "id": "ac4617b1-914f-409c-9cfe-36857139ab28",
   "metadata": {
    "tags": []
   },
   "source": [
    "|Data Science Tools|\n",
    "|------------------|\n",
    "|R Studio|\n",
    "|Jupyter notebook|\n",
    "|spyder|\n"
   ]
  },
  {
   "cell_type": "markdown",
   "id": "edb084b7-63e0-4506-996c-f2bfe500079f",
   "metadata": {},
   "source": [
    "### Below are a few examples of evaluating arithmetic expressions in Python"
   ]
  },
  {
   "cell_type": "code",
   "execution_count": 2,
   "id": "8ed59690-d876-41e7-a5e7-6eb735cbed66",
   "metadata": {
    "tags": []
   },
   "outputs": [
    {
     "data": {
      "text/plain": [
       "17"
      ]
     },
     "execution_count": 2,
     "metadata": {},
     "output_type": "execute_result"
    }
   ],
   "source": [
    "# This a simple arithmetic expression to mutiply then add integers.\n",
    "(3*4)+5"
   ]
  },
  {
   "cell_type": "code",
   "execution_count": 3,
   "id": "fcbbb98c-be8d-4170-9fa7-d3ad45412fee",
   "metadata": {
    "tags": []
   },
   "outputs": [
    {
     "data": {
      "text/plain": [
       "3.3333333333333335"
      ]
     },
     "execution_count": 3,
     "metadata": {},
     "output_type": "execute_result"
    }
   ],
   "source": [
    "# This will convert 200 minutes to hours by diving by 60.\n",
    "200/60"
   ]
  },
  {
   "cell_type": "markdown",
   "id": "0903e1b5-2bde-493b-9a1c-7d221194ab0e",
   "metadata": {
    "tags": []
   },
   "source": [
    "## Author\n",
    "Shani Kol"
   ]
  },
  {
   "cell_type": "code",
   "execution_count": null,
   "id": "aeb3a320-422b-4bdd-80c0-be457c28d7e8",
   "metadata": {},
   "outputs": [],
   "source": []
  }
 ],
 "metadata": {
  "kernelspec": {
   "display_name": "Python",
   "language": "python",
   "name": "conda-env-python-py"
  },
  "language_info": {
   "codemirror_mode": {
    "name": "ipython",
    "version": 3
   },
   "file_extension": ".py",
   "mimetype": "text/x-python",
   "name": "python",
   "nbconvert_exporter": "python",
   "pygments_lexer": "ipython3",
   "version": "3.7.12"
  }
 },
 "nbformat": 4,
 "nbformat_minor": 5
}
